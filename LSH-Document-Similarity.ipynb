{
 "cells": [
  {
   "cell_type": "code",
   "execution_count": null,
   "metadata": {
    "id": "yjK4_fGbHYIA"
   },
   "outputs": [],
   "source": [
    "# Import necessary libraries for data processing, hashing, and similarity calculation\n",
    "\n",
    "import pandas as pd\n",
    "import numpy as np\n",
    "import json\n",
    "import nltk\n",
    "import string\n",
    "import requests\n",
    "import copy\n",
    "import random\n",
    "import nltk\n",
    "\n",
    "from scipy.sparse import lil_matrix\n",
    "from nltk import ngrams\n",
    "from collections import Counter\n",
    "from scipy.sparse import csr_matrix\n",
    "from collections import defaultdict\n",
    "import matplotlib.pyplot as plt\n",
    "from sklearn.metrics.pairwise import pairwise_distances\n",
    "from itertools import combinations\n"
   ]
  },
  {
   "cell_type": "code",
   "execution_count": null,
   "metadata": {},
   "outputs": [],
   "source": [
    "# Fetch article dataset from the provided URL\n",
    "\n",
    "url = 'https://www.ux.uis.no/~vsetty/data/assignment2_aricles.json'\n",
    "response = requests.get(url)\n",
    "articles = response.json()"
   ]
  },
  {
   "cell_type": "code",
   "execution_count": null,
   "metadata": {},
   "outputs": [],
   "source": [
    "#Convert text to lowercase, remove punctuation, and normalize spaces\n",
    "\n",
    "def preprocess_text(text):\n",
    "    text = text.lower().translate(str.maketrans('', '', string.punctuation))\n",
    "    text = ' '.join(text.split())\n",
    "    return text"
   ]
  },
  {
   "cell_type": "code",
   "execution_count": null,
   "metadata": {},
   "outputs": [
    {
     "name": "stdout",
     "output_type": "stream",
     "text": [
      "First article content: \n",
      "First article title: \n"
     ]
    }
   ],
   "source": [
    "## Take sample from content of articles\n",
    "\n",
    "\n",
    "print(\"First article content:\", articles[0].get('content', ''))\n",
    "print(\"First article title:\", articles[0].get('title', ''))"
   ]
  },
  {
   "cell_type": "code",
   "execution_count": null,
   "metadata": {},
   "outputs": [],
   "source": [
    "\"\"\"\n",
    "    Extract and return the most frequent n-grams from articles.\n",
    "    - Uses word-level bigrams (n=2) as default.\n",
    "    - Processes both content and title of each article.\n",
    "    - Returns a dictionary mapping each n-gram to an index.\n",
    "    \"\"\"\n",
    "\n",
    "def getFrequentNgrams(articles, n=2, top_k=10000):\n",
    "    all_ngrams = []\n",
    "\n",
    "    for article in articles:\n",
    "        text = preprocess_text(article.get(\"Content\", \"\") + \" \" + article.get(\"Title\", \"\"))\n",
    "        doc_ngrams = ['_'.join(gram) for gram in ngrams(text.split(), n)]\n",
    "        all_ngrams.extend(doc_ngrams)\n",
    "\n",
    "    # Count occurrences and select top-k most frequent n-grams\n",
    "    ngram_counts = Counter(all_ngrams).most_common(top_k)\n",
    "    unique_ngrams = [ngram for ngram, _ in ngram_counts]\n",
    "    \n",
    "    return unique_ngrams, {ngram: i for i, ngram in enumerate(unique_ngrams)}\n"
   ]
  },
  {
   "cell_type": "code",
   "execution_count": null,
   "metadata": {},
   "outputs": [
    {
     "name": "stdout",
     "output_type": "stream",
     "text": [
      "Extracted 10000 unique n-grams\n",
      "First 5 n-grams: ['of_the', 'in_the', 'to_the', 'for_the', 'on_the']\n"
     ]
    }
   ],
   "source": [
    "# Extravt n-grams from the first 100 articles\n",
    "\n",
    "ngrams_sample, ngram_to_index = getFrequentNgrams(articles[:100])\n",
    "\n",
    "print(f\"Extracted {len(ngrams_sample)} unique n-grams\")\n",
    "print(\"First 5 n-grams:\", ngrams_sample[:5])  # Display first few n-grams\n"
   ]
  },
  {
   "cell_type": "code",
   "execution_count": null,
   "metadata": {},
   "outputs": [],
   "source": [
    "# Convert articles to a sparse binary matrix indicating presence of n-grams\n",
    "\n",
    "def getBinaryMatrix(articles, ngram_to_index, n=2):\n",
    "    num_docs = len(articles)\n",
    "    num_features = len(ngram_to_index)\n",
    "    \n",
    "    # Use a sparse matrix to save memory\n",
    "    binary_matrix = lil_matrix((num_docs, num_features), dtype=np.int8)\n",
    "    \n",
    "    for doc_id, article in enumerate(articles):\n",
    "        text = preprocess_text(article.get(\"Content\", \"\") + \" \" + article.get(\"Title\", \"\"))\n",
    "        doc_ngrams = ['_'.join(gram) for gram in ngrams(text.split(), n)]\n",
    "        \n",
    "        for ngram in doc_ngrams:\n",
    "            if ngram in ngram_to_index:\n",
    "                binary_matrix[doc_id, ngram_to_index[ngram]] = 1  # Mark presence\n",
    "\n",
    "    return binary_matrix.tocsr()  # Convert to CSR format for efficiency\n"
   ]
  },
  {
   "cell_type": "code",
   "execution_count": null,
   "metadata": {},
   "outputs": [
    {
     "name": "stdout",
     "output_type": "stream",
     "text": [
      "Binary Matrix Shape: (100, 10000)\n",
      "Total nonzero values: 16046\n",
      "Density of Binary Matrix: 1.0\n"
     ]
    }
   ],
   "source": [
    "\n",
    "binary_matrix = getBinaryMatrix(articles[:100], ngram_to_index)\n",
    "\n",
    "print(\"Binary Matrix Shape:\", binary_matrix.shape)\n",
    "print(\"Total nonzero values:\", binary_matrix.nnz)\n",
    "print(\"Density of Binary Matrix:\", binary_matrix.nnz / binary_matrix.size)\n"
   ]
  },
  {
   "cell_type": "code",
   "execution_count": null,
   "metadata": {},
   "outputs": [],
   "source": [
    "# Generate a list of hash function values for MinHashing\n",
    "\n",
    "def getHashFunctionValues(numrows, numhashfunctions):\n",
    "    random.seed(42)  # Ensure reproducibility\n",
    "    return [[random.randint(0, numrows - 1) for _ in range(numhashfunctions)] for _ in range(numrows)]"
   ]
  },
  {
   "cell_type": "code",
   "execution_count": 9,
   "metadata": {},
   "outputs": [
    {
     "name": "stdout",
     "output_type": "stream",
     "text": [
      "Generated hash function matrix of shape: (10000, 100)\n"
     ]
    }
   ],
   "source": [
    "num_hashes = 100  # Number of hash functions\n",
    "hash_val_matrix = getHashFunctionValues(binary_matrix.shape[1], num_hashes)\n",
    "\n",
    "print(f\"Generated hash function matrix of shape: ({len(hash_val_matrix)}, {len(hash_val_matrix[0])})\")"
   ]
  },
  {
   "cell_type": "code",
   "execution_count": null,
   "metadata": {
    "id": "coy5Lxd6JcaI"
   },
   "outputs": [],
   "source": [
    "def getMinHashSignatureMatrix(binary_matrix, hash_val_matrix):\n",
    "    \"\"\"Compute the MinHash signature matrix.\"\"\"\n",
    "    num_docs, num_features = binary_matrix.shape\n",
    "    num_hashes = len(hash_val_matrix[0])\n",
    "\n",
    "    # Initialize the signature matrix with large integer values\n",
    "    signature_matrix = np.full((num_docs, num_hashes), np.iinfo(np.int32).max, dtype=np.int32)\n",
    "\n",
    "    # Compute MinHash signatures\n",
    "    for doc_id in range(num_docs):\n",
    "        for ngram_idx in binary_matrix[doc_id].nonzero()[1]:\n",
    "            for hash_idx, hash_val in enumerate(hash_val_matrix[ngram_idx]):\n",
    "                signature_matrix[doc_id, hash_idx] = min(signature_matrix[doc_id, hash_idx], hash_val)\n",
    "\n",
    "    return signature_matrix"
   ]
  },
  {
   "cell_type": "code",
   "execution_count": null,
   "metadata": {},
   "outputs": [
    {
     "name": "stdout",
     "output_type": "stream",
     "text": [
      "Signature Matrix Shape: (100, 100)\n",
      "First 5 rows of Signature Matrix:\n",
      "[[ 29  27   1 245  10]\n",
      " [ 21  11  10  46   3]\n",
      " [ 66  16 111  75 276]\n",
      " [ 62  10  17  39 159]\n",
      " [ 20  22  43  28  45]]\n"
     ]
    }
   ],
   "source": [
    "signature_matrix = getMinHashSignatureMatrix(binary_matrix, hash_val_matrix)\n",
    "\n",
    "print(\"Signature Matrix Shape:\", signature_matrix.shape)\n",
    "print(\"First 5 rows of Signature Matrix:\")\n",
    "print(signature_matrix[:5, :5])"
   ]
  },
  {
   "cell_type": "code",
   "execution_count": null,
   "metadata": {},
   "outputs": [],
   "source": [
    "from collections import defaultdict\n",
    "\n",
    "def getLSH(signature_matrix, num_bands, num_buckets):\n",
    "    \"\"\"Hash signature matrix into LSH buckets using multiple bands.\"\"\"\n",
    "    num_docs, num_hashes = signature_matrix.shape\n",
    "\n",
    "    # Ensure number of hashes is divisible by num_bands\n",
    "    if num_hashes % num_bands != 0:\n",
    "        raise ValueError(\"Number of hashes must be divisible by number of bands\")\n",
    "\n",
    "    rows_per_band = num_hashes // num_bands\n",
    "    lsh_buckets = defaultdict(set)\n",
    "\n",
    "    for band in range(num_bands):\n",
    "        for doc_id in range(num_docs):\n",
    "            band_signature = tuple(signature_matrix[doc_id, band * rows_per_band:(band + 1) * rows_per_band])\n",
    "            bucket = hash(band_signature) % num_buckets\n",
    "            lsh_buckets[bucket].add(doc_id)\n",
    "\n",
    "    return lsh_buckets\n"
   ]
  },
  {
   "cell_type": "code",
   "execution_count": 12,
   "metadata": {},
   "outputs": [
    {
     "name": "stdout",
     "output_type": "stream",
     "text": [
      "Total LSH Buckets: 953\n"
     ]
    }
   ],
   "source": [
    "num_bands = 10\n",
    "num_buckets = 10000  # Increase buckets to avoid too many collisions\n",
    "signature_matrix = getMinHashSignatureMatrix(binary_matrix, hash_val_matrix)\n",
    "\n",
    "lsh_buckets = getLSH(signature_matrix, num_bands, num_buckets)\n",
    "print(f\"Total LSH Buckets: {len(lsh_buckets)}\")"
   ]
  },
  {
   "cell_type": "code",
   "execution_count": 13,
   "metadata": {
    "id": "iaAvfYIkJvYf"
   },
   "outputs": [],
   "source": [
    "import matplotlib.pyplot as plt\n",
    "import numpy as np\n",
    "\n",
    "def plotProbability(s, b, r):\n",
    "    \"\"\"Plot the probability of two similar items falling in the same bucket.\"\"\"\n",
    "    threshold_values = np.linspace(0.01, 1, 100)\n",
    "    probabilities = [1 - (1 - (threshold**r))**b for threshold in threshold_values]\n",
    "\n",
    "    plt.plot(threshold_values, probabilities)\n",
    "    plt.xlabel(\"Jaccard Similarity Threshold (s)\")\n",
    "    plt.ylabel(\"Probability of Bucketing\")\n",
    "    plt.title(f\"LSH Probability (b={b}, r={r})\")\n",
    "    plt.grid(True)\n",
    "    plt.show()"
   ]
  },
  {
   "cell_type": "code",
   "execution_count": null,
   "metadata": {},
   "outputs": [
    {
     "data": {
      "image/png": "[encoded data removed]",
      "text/plain": [
       "<Figure size 640x480 with 1 Axes>"
      ]
     },
     "metadata": {},
     "output_type": "display_data"
    }
   ],
   "source": [
    "plotProbability(s=0.5, b=10, r=5)"
   ]
  },
  {
   "cell_type": "code",
   "execution_count": null,
   "metadata": {},
   "outputs": [],
   "source": [
    "# Compute Jaccard similarity score between two sets\n",
    "\n",
    "def getJaccardSimilarityScore(set1, set2):\n",
    "    intersection = len(set1.intersection(set2))\n",
    "    union = len(set1.union(set2))\n",
    "    return intersection / union if union > 0 else 0"
   ]
  },
  {
   "cell_type": "code",
   "execution_count": 16,
   "metadata": {},
   "outputs": [
    {
     "name": "stdout",
     "output_type": "stream",
     "text": [
      "Jaccard Similarity: 0.3333333333333333\n"
     ]
    }
   ],
   "source": [
    "set_a = {1, 2, 3, 4}\n",
    "set_b = {3, 4, 5, 6}\n",
    "\n",
    "print(f\"Jaccard Similarity: {getJaccardSimilarityScore(set_a, set_b)}\")"
   ]
  },
  {
   "cell_type": "code",
   "execution_count": null,
   "metadata": {
    "id": "MNmDBSVuSdvV"
   },
   "outputs": [
    {
     "name": "stdout",
     "output_type": "stream",
     "text": [
      "Total nearest neighbors: 59\n"
     ]
    }
   ],
   "source": [
    "nearest_neighbors = defaultdict(set)\n",
    "\n",
    "for bucket in lsh_buckets.values():\n",
    "    docs = list(bucket)\n",
    "    if len(docs) > 1:\n",
    "        for doc1, doc2 in combinations(docs, 2):\n",
    "            nearest_neighbors[doc1].add(doc2)\n",
    "            nearest_neighbors[doc2].add(doc1)\n",
    "\n",
    "print(f\"Total nearest neighbors: {len(nearest_neighbors)}\")"
   ]
  },
  {
   "cell_type": "code",
   "execution_count": null,
   "metadata": {
    "id": "nYqQg7BfVPuN"
   },
   "outputs": [
    {
     "name": "stdout",
     "output_type": "stream",
     "text": [
      "Filtered neighbors based on Jaccard Similarity (s=0.2)\n"
     ]
    }
   ],
   "source": [
    "threshold_s = 0.2\n",
    "n_copy = copy.deepcopy(nearest_neighbors)\n",
    "submission_id = []\n",
    "submission_nid = []\n",
    "\n",
    "for article_id, neighbor_ids in n_copy.items():\n",
    "    for nid in neighbor_ids:\n",
    "        score = getJaccardSimilarityScore(set(articles[article_id][\"Content\"].split()), \n",
    "                                          set(articles[nid][\"Content\"].split()))\n",
    "        if score >= threshold_s:\n",
    "            submission_id.append(article_id)\n",
    "            submission_nid.append(nid)\n",
    "\n",
    "print(f\"Filtered neighbors based on Jaccard Similarity (s={threshold_s})\")"
   ]
  },
  {
   "cell_type": "code",
   "execution_count": null,
   "metadata": {},
   "outputs": [
    {
     "name": "stdout",
     "output_type": "stream",
     "text": [
      "Collected 98 pairs for submission\n"
     ]
    }
   ],
   "source": [
    "n_copy = copy.deepcopy(nearest_neighbors)  # Ensure no modification in original data\n",
    "submission_id = []\n",
    "submission_nid = []\n",
    "\n",
    "for article_id, neighbor_ids in n_copy.items():\n",
    "    for nid in neighbor_ids:\n",
    "        submission_id.append(article_id)\n",
    "        submission_nid.append(nid)\n",
    "\n",
    "print(f\"Collected {len(submission_id)} pairs for submission\")"
   ]
  },
  {
   "cell_type": "code",
   "execution_count": null,
   "metadata": {
    "id": "YkEBs1OOWbuZ"
   },
   "outputs": [
    {
     "name": "stdout",
     "output_type": "stream",
     "text": [
      "Submission file created: submissions.csv\n"
     ]
    }
   ],
   "source": [
    "data = pd.DataFrame()\n",
    "data[\"article_id\"] = submission_id\n",
    "data[\"neighbor_id\"] = submission_nid\n",
    "data.sort_values(by=[\"article_id\", \"neighbor_id\"], inplace=True)\n",
    "\n",
    "data.to_csv(\"submissions.csv\", index=False)\n",
    "\n",
    "print(\"Submission file created: submissions.csv\")"
   ]
  },
  {
   "cell_type": "code",
   "execution_count": 22,
   "metadata": {
    "id": "0wivKramXf-1"
   },
   "outputs": [
    {
     "data": {
      "text/html": [
       "<div>\n",
       "<style scoped>\n",
       "    .dataframe tbody tr th:only-of-type {\n",
       "        vertical-align: middle;\n",
       "    }\n",
       "\n",
       "    .dataframe tbody tr th {\n",
       "        vertical-align: top;\n",
       "    }\n",
       "\n",
       "    .dataframe thead th {\n",
       "        text-align: right;\n",
       "    }\n",
       "</style>\n",
       "<table border=\"1\" class=\"dataframe\">\n",
       "  <thead>\n",
       "    <tr style=\"text-align: right;\">\n",
       "      <th></th>\n",
       "      <th>article_id</th>\n",
       "      <th>neighbor_id</th>\n",
       "    </tr>\n",
       "  </thead>\n",
       "  <tbody>\n",
       "    <tr>\n",
       "      <th>82</th>\n",
       "      <td>0</td>\n",
       "      <td>99</td>\n",
       "    </tr>\n",
       "    <tr>\n",
       "      <th>83</th>\n",
       "      <td>3</td>\n",
       "      <td>15</td>\n",
       "    </tr>\n",
       "    <tr>\n",
       "      <th>3</th>\n",
       "      <td>5</td>\n",
       "      <td>99</td>\n",
       "    </tr>\n",
       "    <tr>\n",
       "      <th>16</th>\n",
       "      <td>7</td>\n",
       "      <td>42</td>\n",
       "    </tr>\n",
       "    <tr>\n",
       "      <th>15</th>\n",
       "      <td>7</td>\n",
       "      <td>48</td>\n",
       "    </tr>\n",
       "    <tr>\n",
       "      <th>...</th>\n",
       "      <td>...</td>\n",
       "      <td>...</td>\n",
       "    </tr>\n",
       "    <tr>\n",
       "      <th>92</th>\n",
       "      <td>96</td>\n",
       "      <td>13</td>\n",
       "    </tr>\n",
       "    <tr>\n",
       "      <th>93</th>\n",
       "      <td>96</td>\n",
       "      <td>79</td>\n",
       "    </tr>\n",
       "    <tr>\n",
       "      <th>0</th>\n",
       "      <td>99</td>\n",
       "      <td>0</td>\n",
       "    </tr>\n",
       "    <tr>\n",
       "      <th>1</th>\n",
       "      <td>99</td>\n",
       "      <td>5</td>\n",
       "    </tr>\n",
       "    <tr>\n",
       "      <th>2</th>\n",
       "      <td>99</td>\n",
       "      <td>94</td>\n",
       "    </tr>\n",
       "  </tbody>\n",
       "</table>\n",
       "<p>98 rows × 2 columns</p>\n",
       "</div>"
      ],
      "text/plain": [
       "    article_id  neighbor_id\n",
       "82           0           99\n",
       "83           3           15\n",
       "3            5           99\n",
       "16           7           42\n",
       "15           7           48\n",
       "..         ...          ...\n",
       "92          96           13\n",
       "93          96           79\n",
       "0           99            0\n",
       "1           99            5\n",
       "2           99           94\n",
       "\n",
       "[98 rows x 2 columns]"
      ]
     },
     "execution_count": 22,
     "metadata": {},
     "output_type": "execute_result"
    }
   ],
   "source": [
    "data.head(100)"
   ]
  },
  {
   "cell_type": "code",
   "execution_count": null,
   "metadata": {
    "id": "Fzmz-qQxXpA6"
   },
   "outputs": [],
   "source": []
  }
 ],
 "metadata": {
  "colab": {
   "collapsed_sections": [],
   "name": "Copy of Untitled0.ipynb",
   "provenance": []
  },
  "kernelspec": {
   "display_name": "Python 3 (ipykernel)",
   "language": "python",
   "name": "python3"
  },
  "language_info": {
   "codemirror_mode": {
    "name": "ipython",
    "version": 3
   },
   "file_extension": ".py",
   "mimetype": "text/x-python",
   "name": "python",
   "nbconvert_exporter": "python",
   "pygments_lexer": "ipython3",
   "version": "3.12.6"
  }
 },
 "nbformat": 4,
 "nbformat_minor": 4
}
